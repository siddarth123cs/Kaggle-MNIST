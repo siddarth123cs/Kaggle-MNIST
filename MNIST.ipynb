{
 "cells": [
  {
   "cell_type": "code",
   "execution_count": 2,
   "metadata": {},
   "outputs": [
    {
     "name": "stderr",
     "output_type": "stream",
     "text": [
      "Using TensorFlow backend.\n"
     ]
    }
   ],
   "source": [
    "import pandas as pd\n",
    "import numpy as np\n",
    "import matplotlib.pyplot as plt\n",
    "import matplotlib.image as mpimg\n",
    "import seaborn as sns\n",
    "%matplotlib inline\n",
    "\n",
    "np.random.seed(2)\n",
    "\n",
    "from sklearn.model_selection import train_test_split\n",
    "from sklearn.metrics import confusion_matrix\n",
    "import itertools\n",
    "\n",
    "from keras.utils.np_utils import to_categorical # convert to one-hot-encoding\n",
    "from keras.models import Sequential\n",
    "from keras.layers import Dense, Dropout, Flatten, Conv2D, MaxPool2D\n",
    "from keras.optimizers import RMSprop\n",
    "from keras.preprocessing.image import ImageDataGenerator\n",
    "from keras.callbacks import ReduceLROnPlateau\n",
    "\n",
    "\n",
    "sns.set(style='white', context='notebook', palette='deep')\n",
    "\n",
    "train = pd.read_csv('train.csv')\n",
    "\n",
    "\n",
    "test = pd.read_csv('test (2).csv')\n",
    "\n"
   ]
  },
  {
   "cell_type": "code",
   "execution_count": 3,
   "metadata": {},
   "outputs": [
    {
     "data": {
      "text/plain": [
       "1    4684\n",
       "7    4401\n",
       "3    4351\n",
       "9    4188\n",
       "2    4177\n",
       "6    4137\n",
       "0    4132\n",
       "4    4072\n",
       "8    4063\n",
       "5    3795\n",
       "Name: label, dtype: int64"
      ]
     },
     "execution_count": 3,
     "metadata": {},
     "output_type": "execute_result"
    },
    {
     "data": {
      "image/png": "[encoded data removed]",
      "text/plain": [
       "<matplotlib.figure.Figure at 0x259e1f6ff98>"
      ]
     },
     "metadata": {},
     "output_type": "display_data"
    }
   ],
   "source": [
    "Y_train = train[\"label\"]\n",
    "\n",
    "# Drop 'label' column\n",
    "X_train = train.drop(labels = [\"label\"],axis = 1) \n",
    "\n",
    "# free some space\n",
    "del train \n",
    "\n",
    "g = sns.countplot(Y_train)\n",
    "\n",
    "Y_train.value_counts()"
   ]
  },
  {
   "cell_type": "code",
   "execution_count": 4,
   "metadata": {
    "collapsed": true
   },
   "outputs": [],
   "source": [
    "# Normalize the data\n",
    "X_train = X_train / 255.0\n",
    "test = test / 255.0"
   ]
  },
  {
   "cell_type": "code",
   "execution_count": 5,
   "metadata": {
    "collapsed": true
   },
   "outputs": [],
   "source": [
    "# Reshape image in 3 dimensions (height = 28px, width = 28px , canal = 1)\n",
    "X_train = X_train.values.reshape(-1,28,28,1)\n",
    "test = test.values.reshape(-1,28,28,1)"
   ]
  },
  {
   "cell_type": "code",
   "execution_count": 6,
   "metadata": {
    "collapsed": true
   },
   "outputs": [],
   "source": [
    "# Encode labels to one hot vectors (ex : 2 -> [0,0,1,0,0,0,0,0,0,0])\n",
    "Y_train = to_categorical(Y_train, num_classes = 10)"
   ]
  },
  {
   "cell_type": "code",
   "execution_count": 7,
   "metadata": {
    "collapsed": true
   },
   "outputs": [],
   "source": [
    "# Set the random seed\n",
    "random_seed = 2\n",
    "\n",
    "# Split the train and the validation set for the fitting\n",
    "X_train, X_val, Y_train, Y_val = train_test_split(X_train, Y_train, test_size = 0.1, stratify = Y_train, random_state=random_seed)"
   ]
  },
  {
   "cell_type": "code",
   "execution_count": 13,
   "metadata": {},
   "outputs": [
    {
     "data": {
      "image/png": "[encoded data removed]",
      "text/plain": [
       "<matplotlib.figure.Figure at 0x1ffdc034780>"
      ]
     },
     "metadata": {},
     "output_type": "display_data"
    }
   ],
   "source": [
    "g = plt.imshow(X_train[0][:,:,0])"
   ]
  },
  {
   "cell_type": "code",
   "execution_count": 8,
   "metadata": {
    "collapsed": true
   },
   "outputs": [],
   "source": [
    "# Set the CNN model \n",
    "# my CNN architechture is In -> [[Conv2D->relu]*2 -> MaxPool2D -> Dropout]*2 -> Flatten -> Dense -> Dropout -> Out\n",
    "\n",
    "model = Sequential()\n",
    "\n",
    "model.add(Conv2D(filters = 32, kernel_size = (5,5),padding = 'Same', \n",
    "                 activation ='relu', input_shape = (28,28,1)))\n",
    "model.add(Conv2D(filters = 32, kernel_size = (5,5),padding = 'Same', \n",
    "                 activation ='relu'))\n",
    "model.add(MaxPool2D(pool_size=(2,2)))\n",
    "model.add(Dropout(0.25))\n",
    "\n",
    "\n",
    "model.add(Conv2D(filters = 64, kernel_size = (3,3),padding = 'Same', \n",
    "                 activation ='relu'))\n",
    "model.add(Conv2D(filters = 64, kernel_size = (3,3),padding = 'Same', \n",
    "                 activation ='relu'))\n",
    "model.add(MaxPool2D(pool_size=(2,2), strides=(2,2)))\n",
    "model.add(Dropout(0.25))\n",
    "\n",
    "\n",
    "model.add(Flatten())\n",
    "model.add(Dense(256, activation = \"relu\"))\n",
    "model.add(Dropout(0.5))\n",
    "model.add(Dense(10, activation = \"softmax\"))"
   ]
  },
  {
   "cell_type": "code",
   "execution_count": 9,
   "metadata": {
    "collapsed": true
   },
   "outputs": [],
   "source": [
    "# Define the optimizer\n",
    "optimizer = RMSprop(lr=0.001, rho=0.9, epsilon=1e-08, decay=0.0)"
   ]
  },
  {
   "cell_type": "code",
   "execution_count": 10,
   "metadata": {
    "collapsed": true
   },
   "outputs": [],
   "source": [
    "# Compile the model\n",
    "model.compile(optimizer = optimizer , loss = \"categorical_crossentropy\", metrics=[\"accuracy\"])"
   ]
  },
  {
   "cell_type": "code",
   "execution_count": 11,
   "metadata": {
    "collapsed": true
   },
   "outputs": [],
   "source": [
    "# Set a learning rate annealer\n",
    "learning_rate_reduction = ReduceLROnPlateau(monitor='val_acc', \n",
    "                                            patience=3, \n",
    "                                            verbose=1, \n",
    "                                            factor=0.5, \n",
    "                                            min_lr=0.00001)"
   ]
  },
  {
   "cell_type": "code",
   "execution_count": 21,
   "metadata": {
    "collapsed": true
   },
   "outputs": [],
   "source": [
    "epochs = 100 # Turn epochs to 30 to get 0.9967 accuracy\n",
    "batch_size = 64"
   ]
  },
  {
   "cell_type": "code",
   "execution_count": 13,
   "metadata": {
    "collapsed": true
   },
   "outputs": [],
   "source": [
    "# With data augmentation to prevent overfitting (accuracy 0.99286)\n",
    "\n",
    "datagen = ImageDataGenerator(\n",
    "        featurewise_center=False,  # set input mean to 0 over the dataset\n",
    "        samplewise_center=False,  # set each sample mean to 0\n",
    "        featurewise_std_normalization=False,  # divide inputs by std of the dataset\n",
    "        samplewise_std_normalization=False,  # divide each input by its std\n",
    "        zca_whitening=False,  # apply ZCA whitening\n",
    "        rotation_range=10,  # randomly rotate images in the range (degrees, 0 to 180)\n",
    "        zoom_range = 0.1, # Randomly zoom image \n",
    "        width_shift_range=0.1,  # randomly shift images horizontally (fraction of total width)\n",
    "        height_shift_range=0.1,  # randomly shift images vertically (fraction of total height)\n",
    "        horizontal_flip=False,  # randomly flip images\n",
    "        vertical_flip=False)  # randomly flip images\n",
    "\n",
    "\n",
    "datagen.fit(X_train)"
   ]
  },
  {
   "cell_type": "code",
   "execution_count": 22,
   "metadata": {},
   "outputs": [
    {
     "name": "stdout",
     "output_type": "stream",
     "text": [
      "Epoch 1/100\n",
      " - 10s - loss: 0.0309 - acc: 0.9909 - val_loss: 0.0126 - val_acc: 0.9971\n",
      "Epoch 2/100\n",
      " - 10s - loss: 0.0312 - acc: 0.9912 - val_loss: 0.0134 - val_acc: 0.9969\n",
      "Epoch 3/100\n",
      " - 10s - loss: 0.0318 - acc: 0.9908 - val_loss: 0.0127 - val_acc: 0.9974\n",
      "Epoch 4/100\n",
      " - 10s - loss: 0.0277 - acc: 0.9918 - val_loss: 0.0128 - val_acc: 0.9974\n",
      "Epoch 5/100\n",
      " - 10s - loss: 0.0302 - acc: 0.9914 - val_loss: 0.0128 - val_acc: 0.9969\n",
      "Epoch 6/100\n",
      " - 10s - loss: 0.0275 - acc: 0.9921 - val_loss: 0.0125 - val_acc: 0.9971\n",
      "Epoch 7/100\n",
      " - 10s - loss: 0.0295 - acc: 0.9919 - val_loss: 0.0133 - val_acc: 0.9967\n",
      "Epoch 8/100\n",
      " - 10s - loss: 0.0299 - acc: 0.9915 - val_loss: 0.0133 - val_acc: 0.9969\n",
      "Epoch 9/100\n",
      " - 10s - loss: 0.0299 - acc: 0.9915 - val_loss: 0.0135 - val_acc: 0.9971\n",
      "Epoch 10/100\n",
      " - 10s - loss: 0.0288 - acc: 0.9918 - val_loss: 0.0133 - val_acc: 0.9971\n",
      "Epoch 11/100\n",
      " - 10s - loss: 0.0311 - acc: 0.9909 - val_loss: 0.0131 - val_acc: 0.9974\n",
      "Epoch 12/100\n",
      " - 10s - loss: 0.0303 - acc: 0.9915 - val_loss: 0.0134 - val_acc: 0.9971\n",
      "Epoch 13/100\n",
      " - 10s - loss: 0.0284 - acc: 0.9911 - val_loss: 0.0131 - val_acc: 0.9974\n",
      "Epoch 14/100\n",
      " - 10s - loss: 0.0319 - acc: 0.9913 - val_loss: 0.0130 - val_acc: 0.9971\n",
      "Epoch 15/100\n",
      " - 10s - loss: 0.0315 - acc: 0.9910 - val_loss: 0.0133 - val_acc: 0.9969\n",
      "Epoch 16/100\n",
      " - 10s - loss: 0.0318 - acc: 0.9905 - val_loss: 0.0129 - val_acc: 0.9971\n",
      "Epoch 17/100\n",
      " - 10s - loss: 0.0296 - acc: 0.9909 - val_loss: 0.0130 - val_acc: 0.9976\n",
      "Epoch 18/100\n",
      " - 10s - loss: 0.0317 - acc: 0.9915 - val_loss: 0.0131 - val_acc: 0.9971\n",
      "Epoch 19/100\n",
      " - 10s - loss: 0.0275 - acc: 0.9918 - val_loss: 0.0134 - val_acc: 0.9971\n",
      "Epoch 20/100\n",
      " - 10s - loss: 0.0294 - acc: 0.9918 - val_loss: 0.0129 - val_acc: 0.9974\n",
      "Epoch 21/100\n",
      " - 10s - loss: 0.0275 - acc: 0.9912 - val_loss: 0.0130 - val_acc: 0.9974\n",
      "Epoch 22/100\n",
      " - 10s - loss: 0.0311 - acc: 0.9910 - val_loss: 0.0133 - val_acc: 0.9971\n",
      "Epoch 23/100\n",
      " - 10s - loss: 0.0296 - acc: 0.9917 - val_loss: 0.0131 - val_acc: 0.9969\n",
      "Epoch 24/100\n",
      " - 10s - loss: 0.0292 - acc: 0.9915 - val_loss: 0.0131 - val_acc: 0.9974\n",
      "Epoch 25/100\n",
      " - 10s - loss: 0.0308 - acc: 0.9910 - val_loss: 0.0133 - val_acc: 0.9971\n",
      "Epoch 26/100\n",
      " - 10s - loss: 0.0322 - acc: 0.9918 - val_loss: 0.0131 - val_acc: 0.9971\n",
      "Epoch 27/100\n",
      " - 10s - loss: 0.0303 - acc: 0.9913 - val_loss: 0.0125 - val_acc: 0.9971\n",
      "Epoch 28/100\n",
      " - 10s - loss: 0.0316 - acc: 0.9906 - val_loss: 0.0136 - val_acc: 0.9969\n",
      "Epoch 29/100\n",
      " - 10s - loss: 0.0296 - acc: 0.9921 - val_loss: 0.0127 - val_acc: 0.9967\n",
      "Epoch 30/100\n",
      " - 10s - loss: 0.0291 - acc: 0.9916 - val_loss: 0.0132 - val_acc: 0.9967\n",
      "Epoch 31/100\n",
      " - 10s - loss: 0.0315 - acc: 0.9910 - val_loss: 0.0134 - val_acc: 0.9969\n",
      "Epoch 32/100\n",
      " - 10s - loss: 0.0306 - acc: 0.9913 - val_loss: 0.0137 - val_acc: 0.9969\n",
      "Epoch 33/100\n",
      " - 10s - loss: 0.0286 - acc: 0.9918 - val_loss: 0.0130 - val_acc: 0.9969\n",
      "Epoch 34/100\n",
      " - 10s - loss: 0.0330 - acc: 0.9907 - val_loss: 0.0128 - val_acc: 0.9974\n",
      "Epoch 35/100\n",
      " - 10s - loss: 0.0298 - acc: 0.9908 - val_loss: 0.0128 - val_acc: 0.9969\n",
      "Epoch 36/100\n",
      " - 10s - loss: 0.0304 - acc: 0.9909 - val_loss: 0.0133 - val_acc: 0.9969\n",
      "Epoch 37/100\n",
      " - 10s - loss: 0.0278 - acc: 0.9919 - val_loss: 0.0129 - val_acc: 0.9967\n",
      "Epoch 38/100\n",
      " - 10s - loss: 0.0324 - acc: 0.9904 - val_loss: 0.0133 - val_acc: 0.9969\n",
      "Epoch 39/100\n",
      " - 10s - loss: 0.0306 - acc: 0.9909 - val_loss: 0.0132 - val_acc: 0.9969\n",
      "Epoch 40/100\n",
      " - 10s - loss: 0.0290 - acc: 0.9922 - val_loss: 0.0128 - val_acc: 0.9969\n",
      "Epoch 41/100\n",
      " - 10s - loss: 0.0308 - acc: 0.9908 - val_loss: 0.0126 - val_acc: 0.9967\n",
      "Epoch 42/100\n",
      " - 10s - loss: 0.0286 - acc: 0.9911 - val_loss: 0.0131 - val_acc: 0.9971\n",
      "Epoch 43/100\n",
      " - 10s - loss: 0.0302 - acc: 0.9916 - val_loss: 0.0133 - val_acc: 0.9967\n",
      "Epoch 44/100\n",
      " - 10s - loss: 0.0315 - acc: 0.9908 - val_loss: 0.0136 - val_acc: 0.9969\n",
      "Epoch 45/100\n",
      " - 10s - loss: 0.0295 - acc: 0.9909 - val_loss: 0.0128 - val_acc: 0.9971\n",
      "Epoch 46/100\n",
      " - 10s - loss: 0.0304 - acc: 0.9913 - val_loss: 0.0130 - val_acc: 0.9971\n",
      "Epoch 47/100\n",
      " - 10s - loss: 0.0325 - acc: 0.9903 - val_loss: 0.0130 - val_acc: 0.9969\n",
      "Epoch 48/100\n",
      " - 10s - loss: 0.0318 - acc: 0.9914 - val_loss: 0.0130 - val_acc: 0.9971\n",
      "Epoch 49/100\n",
      " - 10s - loss: 0.0303 - acc: 0.9907 - val_loss: 0.0129 - val_acc: 0.9971\n",
      "Epoch 50/100\n",
      " - 10s - loss: 0.0288 - acc: 0.9916 - val_loss: 0.0125 - val_acc: 0.9971\n",
      "Epoch 51/100\n",
      " - 10s - loss: 0.0278 - acc: 0.9917 - val_loss: 0.0132 - val_acc: 0.9967\n",
      "Epoch 52/100\n",
      " - 10s - loss: 0.0323 - acc: 0.9903 - val_loss: 0.0131 - val_acc: 0.9967\n",
      "Epoch 53/100\n",
      " - 10s - loss: 0.0303 - acc: 0.9913 - val_loss: 0.0130 - val_acc: 0.9971\n",
      "Epoch 54/100\n",
      " - 10s - loss: 0.0312 - acc: 0.9908 - val_loss: 0.0132 - val_acc: 0.9971\n",
      "Epoch 55/100\n",
      " - 10s - loss: 0.0291 - acc: 0.9913 - val_loss: 0.0135 - val_acc: 0.9969\n",
      "Epoch 56/100\n",
      " - 10s - loss: 0.0276 - acc: 0.9918 - val_loss: 0.0131 - val_acc: 0.9969\n",
      "Epoch 57/100\n",
      " - 10s - loss: 0.0324 - acc: 0.9901 - val_loss: 0.0139 - val_acc: 0.9969\n",
      "Epoch 58/100\n",
      " - 10s - loss: 0.0296 - acc: 0.9914 - val_loss: 0.0138 - val_acc: 0.9967\n",
      "Epoch 59/100\n",
      " - 10s - loss: 0.0312 - acc: 0.9915 - val_loss: 0.0133 - val_acc: 0.9969\n",
      "Epoch 60/100\n",
      " - 10s - loss: 0.0277 - acc: 0.9915 - val_loss: 0.0134 - val_acc: 0.9969\n",
      "Epoch 61/100\n",
      " - 10s - loss: 0.0307 - acc: 0.9908 - val_loss: 0.0137 - val_acc: 0.9967\n",
      "Epoch 62/100\n",
      " - 10s - loss: 0.0312 - acc: 0.9909 - val_loss: 0.0133 - val_acc: 0.9969\n",
      "Epoch 63/100\n",
      " - 10s - loss: 0.0336 - acc: 0.9903 - val_loss: 0.0138 - val_acc: 0.9967\n",
      "Epoch 64/100\n",
      " - 10s - loss: 0.0302 - acc: 0.9914 - val_loss: 0.0133 - val_acc: 0.9967\n",
      "Epoch 65/100\n",
      " - 10s - loss: 0.0290 - acc: 0.9913 - val_loss: 0.0132 - val_acc: 0.9971\n",
      "Epoch 66/100\n",
      " - 10s - loss: 0.0293 - acc: 0.9912 - val_loss: 0.0128 - val_acc: 0.9971\n",
      "Epoch 67/100\n",
      " - 10s - loss: 0.0330 - acc: 0.9906 - val_loss: 0.0132 - val_acc: 0.9967\n",
      "Epoch 68/100\n",
      " - 10s - loss: 0.0287 - acc: 0.9914 - val_loss: 0.0134 - val_acc: 0.9971\n",
      "Epoch 69/100\n",
      " - 10s - loss: 0.0328 - acc: 0.9910 - val_loss: 0.0138 - val_acc: 0.9969\n",
      "Epoch 70/100\n",
      " - 10s - loss: 0.0290 - acc: 0.9916 - val_loss: 0.0137 - val_acc: 0.9967\n",
      "Epoch 71/100\n",
      " - 10s - loss: 0.0274 - acc: 0.9919 - val_loss: 0.0133 - val_acc: 0.9967\n",
      "Epoch 72/100\n",
      " - 10s - loss: 0.0305 - acc: 0.9917 - val_loss: 0.0137 - val_acc: 0.9967\n",
      "Epoch 73/100\n",
      " - 10s - loss: 0.0316 - acc: 0.9911 - val_loss: 0.0137 - val_acc: 0.9967\n",
      "Epoch 74/100\n",
      " - 10s - loss: 0.0312 - acc: 0.9907 - val_loss: 0.0134 - val_acc: 0.9969\n",
      "Epoch 75/100\n",
      " - 10s - loss: 0.0295 - acc: 0.9914 - val_loss: 0.0136 - val_acc: 0.9969\n",
      "Epoch 76/100\n",
      " - 10s - loss: 0.0294 - acc: 0.9910 - val_loss: 0.0135 - val_acc: 0.9971\n",
      "Epoch 77/100\n",
      " - 10s - loss: 0.0313 - acc: 0.9909 - val_loss: 0.0143 - val_acc: 0.9967\n",
      "Epoch 78/100\n",
      " - 10s - loss: 0.0302 - acc: 0.9916 - val_loss: 0.0136 - val_acc: 0.9967\n",
      "Epoch 79/100\n",
      " - 10s - loss: 0.0330 - acc: 0.9911 - val_loss: 0.0139 - val_acc: 0.9967\n",
      "Epoch 80/100\n",
      " - 10s - loss: 0.0308 - acc: 0.9908 - val_loss: 0.0137 - val_acc: 0.9967\n",
      "Epoch 81/100\n",
      " - 10s - loss: 0.0293 - acc: 0.9916 - val_loss: 0.0139 - val_acc: 0.9964\n",
      "Epoch 82/100\n",
      " - 10s - loss: 0.0279 - acc: 0.9918 - val_loss: 0.0135 - val_acc: 0.9967\n",
      "Epoch 83/100\n",
      " - 9s - loss: 0.0277 - acc: 0.9919 - val_loss: 0.0132 - val_acc: 0.9967\n",
      "Epoch 84/100\n",
      " - 10s - loss: 0.0296 - acc: 0.9909 - val_loss: 0.0133 - val_acc: 0.9969\n",
      "Epoch 85/100\n",
      " - 10s - loss: 0.0296 - acc: 0.9920 - val_loss: 0.0138 - val_acc: 0.9967\n",
      "Epoch 86/100\n",
      " - 10s - loss: 0.0311 - acc: 0.9911 - val_loss: 0.0139 - val_acc: 0.9964\n",
      "Epoch 87/100\n",
      " - 10s - loss: 0.0321 - acc: 0.9909 - val_loss: 0.0148 - val_acc: 0.9967\n",
      "Epoch 88/100\n",
      " - 10s - loss: 0.0329 - acc: 0.9906 - val_loss: 0.0152 - val_acc: 0.9967\n",
      "Epoch 89/100\n",
      " - 10s - loss: 0.0331 - acc: 0.9907 - val_loss: 0.0141 - val_acc: 0.9967\n",
      "Epoch 90/100\n",
      " - 10s - loss: 0.0319 - acc: 0.9905 - val_loss: 0.0144 - val_acc: 0.9964\n",
      "Epoch 91/100\n",
      " - 10s - loss: 0.0289 - acc: 0.9915 - val_loss: 0.0146 - val_acc: 0.9967\n",
      "Epoch 92/100\n",
      " - 10s - loss: 0.0304 - acc: 0.9915 - val_loss: 0.0137 - val_acc: 0.9969\n",
      "Epoch 93/100\n",
      " - 10s - loss: 0.0291 - acc: 0.9911 - val_loss: 0.0137 - val_acc: 0.9969\n",
      "Epoch 94/100\n",
      " - 10s - loss: 0.0289 - acc: 0.9914 - val_loss: 0.0140 - val_acc: 0.9967\n",
      "Epoch 95/100\n",
      " - 10s - loss: 0.0315 - acc: 0.9911 - val_loss: 0.0145 - val_acc: 0.9967\n",
      "Epoch 96/100\n",
      " - 10s - loss: 0.0301 - acc: 0.9910 - val_loss: 0.0144 - val_acc: 0.9969\n"
     ]
    },
    {
     "name": "stdout",
     "output_type": "stream",
     "text": [
      "Epoch 97/100\n",
      " - 10s - loss: 0.0301 - acc: 0.9913 - val_loss: 0.0139 - val_acc: 0.9967\n",
      "Epoch 98/100\n",
      " - 10s - loss: 0.0318 - acc: 0.9905 - val_loss: 0.0139 - val_acc: 0.9967\n",
      "Epoch 99/100\n",
      " - 10s - loss: 0.0301 - acc: 0.9912 - val_loss: 0.0138 - val_acc: 0.9967\n",
      "Epoch 100/100\n",
      " - 10s - loss: 0.0294 - acc: 0.9912 - val_loss: 0.0137 - val_acc: 0.9964\n"
     ]
    }
   ],
   "source": [
    "# Fit the model\n",
    "history = model.fit_generator(datagen.flow(X_train,Y_train, batch_size=batch_size),\n",
    "                              epochs = epochs, validation_data = (X_val,Y_val),\n",
    "                              verbose = 2, steps_per_epoch=X_train.shape[0] // batch_size\n",
    "                              , callbacks=[learning_rate_reduction])"
   ]
  },
  {
   "cell_type": "code",
   "execution_count": 23,
   "metadata": {},
   "outputs": [],
   "source": [
    "predictions= model.predict_proba(test)"
   ]
  },
  {
   "cell_type": "code",
   "execution_count": 24,
   "metadata": {
    "collapsed": true
   },
   "outputs": [],
   "source": [
    "prediction=pd.DataFrame(predictions)"
   ]
  },
  {
   "cell_type": "code",
   "execution_count": 26,
   "metadata": {},
   "outputs": [],
   "source": [
    "prediction.to_csv('sub1.csv',index=False)"
   ]
  }
 ],
 "metadata": {
  "kernelspec": {
   "display_name": "Python 3",
   "language": "python",
   "name": "python3"
  },
  "language_info": {
   "codemirror_mode": {
    "name": "ipython",
    "version": 3
   },
   "file_extension": ".py",
   "mimetype": "text/x-python",
   "name": "python",
   "nbconvert_exporter": "python",
   "pygments_lexer": "ipython3",
   "version": "3.6.1"
  }
 },
 "nbformat": 4,
 "nbformat_minor": 2
}
